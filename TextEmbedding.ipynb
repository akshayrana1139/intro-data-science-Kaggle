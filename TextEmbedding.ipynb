{
  "nbformat": 4,
  "nbformat_minor": 0,
  "metadata": {
    "colab": {
      "name": "TextEmbedding.ipynb",
      "provenance": [],
      "collapsed_sections": [],
      "include_colab_link": true
    },
    "kernelspec": {
      "name": "python3",
      "display_name": "Python 3"
    }
  },
  "cells": [
    {
      "cell_type": "markdown",
      "metadata": {
        "id": "view-in-github",
        "colab_type": "text"
      },
      "source": [
        "<a href=\"https://colab.research.google.com/github/akshayrana30/kaggle-data-science/blob/master/TextEmbedding.ipynb\" target=\"_parent\"><img src=\"https://colab.research.google.com/assets/colab-badge.svg\" alt=\"Open In Colab\"/></a>"
      ]
    },
    {
      "cell_type": "code",
      "metadata": {
        "id": "Yby-OOb-gYcC",
        "colab_type": "code",
        "colab": {
          "base_uri": "https://localhost:8080/",
          "height": 34
        },
        "outputId": "ba023e3c-d0d5-4c4d-f42a-9dfc5368dd8f"
      },
      "source": [
        "%tensorflow_version 2.x"
      ],
      "execution_count": 1,
      "outputs": [
        {
          "output_type": "stream",
          "text": [
            "TensorFlow 2.x selected.\n"
          ],
          "name": "stdout"
        }
      ]
    },
    {
      "cell_type": "code",
      "metadata": {
        "id": "mP8UYX1xfNdF",
        "colab_type": "code",
        "colab": {}
      },
      "source": [
        "from absl import logging\n",
        "\n",
        "import tensorflow as tf\n",
        "import tensorflow_hub as hub\n",
        "import matplotlib.pyplot as plt\n",
        "import numpy as np\n",
        "import os\n",
        "import pandas as pd\n",
        "import re\n",
        "import seaborn as sns"
      ],
      "execution_count": 0,
      "outputs": []
    },
    {
      "cell_type": "code",
      "metadata": {
        "id": "2lblTT9GfQCz",
        "colab_type": "code",
        "colab": {}
      },
      "source": [
        "import tensorflow_hub as hub\n",
        "\n",
        "embed = hub.load(\"https://tfhub.dev/google/tf2-preview/gnews-swivel-20dim/1\")\n",
        "embeddings = embed([\"cat is on the mat\", \"dog is in the fog\"])"
      ],
      "execution_count": 0,
      "outputs": []
    },
    {
      "cell_type": "code",
      "metadata": {
        "id": "qnr97qDdhFxh",
        "colab_type": "code",
        "colab": {}
      },
      "source": [
        "data_np = np.load(\"./data_train.pkl\", allow_pickle = True)\n",
        "from sklearn.model_selection import train_test_split\n",
        "X_train, X_test, y_train, y_test = train_test_split(data_np[0], data_np[1], test_size=0.20)"
      ],
      "execution_count": 0,
      "outputs": []
    },
    {
      "cell_type": "code",
      "metadata": {
        "id": "aPgEgrxdhcL8",
        "colab_type": "code",
        "colab": {}
      },
      "source": [
        "embeddings_train = embed(X_train)\n",
        "embeddings_test = embed(X_test)\n"
      ],
      "execution_count": 0,
      "outputs": []
    },
    {
      "cell_type": "code",
      "metadata": {
        "id": "pvDeGTpjhe_i",
        "colab_type": "code",
        "colab": {}
      },
      "source": [
        "X_train = embeddings_train.numpy()\n",
        "X_test = embeddings_test.numpy()"
      ],
      "execution_count": 0,
      "outputs": []
    },
    {
      "cell_type": "code",
      "metadata": {
        "id": "3rbQu_2gjP3t",
        "colab_type": "code",
        "colab": {
          "base_uri": "https://localhost:8080/",
          "height": 119
        },
        "outputId": "d5f32a3c-a9ee-42f0-96e5-208ea1b1949c"
      },
      "source": [
        "from xgboost import XGBClassifier\n",
        "from sklearn.metrics import accuracy_score\n",
        "\n",
        "from sklearn.linear_model import SGDClassifier\n",
        "\n",
        "clg = SGDClassifier(loss=\"log\")\n",
        "clg.fit(X_train, y_train)\n",
        "# y_pred = clg.predict(X_test)\n",
        "# accuracy_score(y_pred, y_test)"
      ],
      "execution_count": 29,
      "outputs": [
        {
          "output_type": "execute_result",
          "data": {
            "text/plain": [
              "SGDClassifier(alpha=0.0001, average=False, class_weight=None,\n",
              "              early_stopping=False, epsilon=0.1, eta0=0.0, fit_intercept=True,\n",
              "              l1_ratio=0.15, learning_rate='optimal', loss='log', max_iter=1000,\n",
              "              n_iter_no_change=5, n_jobs=None, penalty='l2', power_t=0.5,\n",
              "              random_state=None, shuffle=True, tol=0.001,\n",
              "              validation_fraction=0.1, verbose=0, warm_start=False)"
            ]
          },
          "metadata": {
            "tags": []
          },
          "execution_count": 29
        }
      ]
    },
    {
      "cell_type": "code",
      "metadata": {
        "id": "SyT9v_yZkvhA",
        "colab_type": "code",
        "colab": {}
      },
      "source": [
        "y_pred = clg.predict(X_test)"
      ],
      "execution_count": 0,
      "outputs": []
    },
    {
      "cell_type": "code",
      "metadata": {
        "id": "20CE9g94ky1o",
        "colab_type": "code",
        "colab": {
          "base_uri": "https://localhost:8080/",
          "height": 34
        },
        "outputId": "e083fab5-0149-4487-d450-23be085d5df0"
      },
      "source": [
        "accuracy_score(y_pred, y_test)"
      ],
      "execution_count": 31,
      "outputs": [
        {
          "output_type": "execute_result",
          "data": {
            "text/plain": [
              "0.1997142857142857"
            ]
          },
          "metadata": {
            "tags": []
          },
          "execution_count": 31
        }
      ]
    },
    {
      "cell_type": "code",
      "metadata": {
        "id": "GoKeZIvwk_mI",
        "colab_type": "code",
        "colab": {}
      },
      "source": [
        "# embedding = \"https://tfhub.dev/google/tf2-preview/gnews-swivel-20dim/1\"\n",
        "\n",
        "embedding = \"https://tfhub.dev/google/tf2-preview/nnlm-es-dim50-with-normalization/1\"\n",
        "\n",
        "hub_layer = hub.KerasLayer(embedding, input_shape=[], \n",
        "                           dtype=tf.string, trainable=False )"
      ],
      "execution_count": 0,
      "outputs": []
    },
    {
      "cell_type": "code",
      "metadata": {
        "id": "vmYfq0CJl8od",
        "colab_type": "code",
        "colab": {}
      },
      "source": [
        "# from sklearn.preprocessing import LabelEncoder\n",
        "# lbe = LabelEncoder()\n",
        "# lbe.fit(y_train)\n",
        "# y_train = lbe.transform(y_train)\n",
        "# y_test = lbe.transform(y_test)\n",
        "\n",
        "train_dataset = tf.data.Dataset.from_tensor_slices((padded_docs_train, y_train))\n",
        "test_dataset = tf.data.Dataset.from_tensor_slices((padded_docs_test, y_test))"
      ],
      "execution_count": 0,
      "outputs": []
    },
    {
      "cell_type": "code",
      "metadata": {
        "id": "tHH2i81LJpsV",
        "colab_type": "code",
        "colab": {}
      },
      "source": [
        "embed = hub.load(\"https://tfhub.dev/google/tf2-preview/gnews-swivel-20dim/1\")\n",
        "embeddings = embed([\"cat\"])"
      ],
      "execution_count": 0,
      "outputs": []
    },
    {
      "cell_type": "code",
      "metadata": {
        "id": "qTCHWTf9lx_K",
        "colab_type": "code",
        "colab": {
          "base_uri": "https://localhost:8080/",
          "height": 289
        },
        "outputId": "5453750d-06c9-4c65-d1cb-1b4d0cf29ade"
      },
      "source": [
        "model = tf.keras.Sequential()\n",
        "model.add(hub_layer)\n",
        "model.add(tf.keras.layers.Dense(40, activation='relu'))\n",
        "model.add(tf.keras.layers.Dense(30, activation='relu'))\n",
        "model.add(tf.keras.layers.Dense(20, activation='softmax'))\n",
        "\n",
        "model.summary()\n",
        "\n",
        "model.compile(optimizer='adam',\n",
        "              loss='sparse_categorical_crossentropy',\n",
        "              metrics=['sparse_categorical_accuracy'])"
      ],
      "execution_count": 139,
      "outputs": [
        {
          "output_type": "stream",
          "text": [
            "Model: \"sequential_32\"\n",
            "_________________________________________________________________\n",
            "Layer (type)                 Output Shape              Param #   \n",
            "=================================================================\n",
            "keras_layer_3 (KerasLayer)   (None, 50)                48832000  \n",
            "_________________________________________________________________\n",
            "dense_51 (Dense)             (None, 40)                2040      \n",
            "_________________________________________________________________\n",
            "dense_52 (Dense)             (None, 30)                1230      \n",
            "_________________________________________________________________\n",
            "dense_53 (Dense)             (None, 20)                620       \n",
            "=================================================================\n",
            "Total params: 48,835,890\n",
            "Trainable params: 3,890\n",
            "Non-trainable params: 48,832,000\n",
            "_________________________________________________________________\n"
          ],
          "name": "stdout"
        }
      ]
    },
    {
      "cell_type": "markdown",
      "metadata": {
        "id": "U4PJP_A9Iebd",
        "colab_type": "text"
      },
      "source": [
        "Need to convert to 3d for lstm, so extracting weights from the layer.. and will use it in embedding layer\n",
        "\n"
      ]
    },
    {
      "cell_type": "code",
      "metadata": {
        "id": "YgFA4AdZB_D4",
        "colab_type": "code",
        "colab": {
          "base_uri": "https://localhost:8080/",
          "height": 34
        },
        "outputId": "2f93661d-20c2-4052-8d8a-8e4229cba6e1"
      },
      "source": [
        "weights = hub_layer.get_weights()[0]\n",
        "weights.shape"
      ],
      "execution_count": 152,
      "outputs": [
        {
          "output_type": "execute_result",
          "data": {
            "text/plain": [
              "(976640, 50)"
            ]
          },
          "metadata": {
            "tags": []
          },
          "execution_count": 152
        }
      ]
    },
    {
      "cell_type": "code",
      "metadata": {
        "id": "2YGbi3ktJ7SH",
        "colab_type": "code",
        "colab": {}
      },
      "source": [
        "tokenizer."
      ],
      "execution_count": 0,
      "outputs": []
    },
    {
      "cell_type": "code",
      "metadata": {
        "id": "0N3Myx7fJZHy",
        "colab_type": "code",
        "colab": {
          "base_uri": "https://localhost:8080/",
          "height": 164
        },
        "outputId": "efb9bd5f-886d-4772-d989-2eeb3179b87e"
      },
      "source": [
        "[k:v for k in tokenizer.in]"
      ],
      "execution_count": 181,
      "outputs": [
        {
          "output_type": "error",
          "ename": "TypeError",
          "evalue": "ignored",
          "traceback": [
            "\u001b[0;31m---------------------------------------------------------------------------\u001b[0m",
            "\u001b[0;31mTypeError\u001b[0m                                 Traceback (most recent call last)",
            "\u001b[0;32m<ipython-input-181-8dfea7d112e8>\u001b[0m in \u001b[0;36m<module>\u001b[0;34m()\u001b[0m\n\u001b[0;32m----> 1\u001b[0;31m \u001b[0mhub_layer\u001b[0m\u001b[0;34m[\u001b[0m\u001b[0;34m'happy'\u001b[0m\u001b[0;34m]\u001b[0m\u001b[0;34m\u001b[0m\u001b[0;34m\u001b[0m\u001b[0m\n\u001b[0m",
            "\u001b[0;31mTypeError\u001b[0m: 'KerasLayer' object is not subscriptable"
          ]
        }
      ]
    },
    {
      "cell_type": "code",
      "metadata": {
        "id": "S5Mh34mpHI-b",
        "colab_type": "code",
        "colab": {
          "base_uri": "https://localhost:8080/",
          "height": 34
        },
        "outputId": "a1ad9be4-3cb6-4d17-9058-172e900a33b3"
      },
      "source": [
        "from tensorflow.keras.preprocessing.text import Tokenizer\n",
        "from tensorflow.keras.preprocessing.sequence import pad_sequences\n",
        "\n",
        "tokenizer = Tokenizer(num_words=100000, oov_token='OOV_TOKEN')\n",
        "tokenizer.fit_on_texts(X_train)\n",
        "X_train = tokenizer.texts_to_sequences(X_train)\n",
        "X_test = tokenizer.texts_to_sequences(X_test)\n",
        "# one_hot_encoded_Y = to_categorical(vector_Y)\n",
        "vocab_size = len(tokenizer.word_index) + 1  # Adding 1 because of reserved 0 index\n",
        "\n",
        "\n",
        "print(X_train[2])\n",
        "\n",
        "\n",
        "\n"
      ],
      "execution_count": 177,
      "outputs": [
        {
          "output_type": "stream",
          "text": [
            "[1794, 2553, 5, 82, 16, 307, 28, 6, 130, 3, 18593]\n"
          ],
          "name": "stdout"
        }
      ]
    },
    {
      "cell_type": "code",
      "metadata": {
        "id": "RuU0E3bLI8PF",
        "colab_type": "code",
        "colab": {}
      },
      "source": [
        "padded_docs_train = pad_sequences(X_train, maxlen=200, padding='post')\n",
        "padded_docs_test = pad_sequences(X_test, maxlen=200, padding='post')"
      ],
      "execution_count": 0,
      "outputs": []
    },
    {
      "cell_type": "code",
      "metadata": {
        "id": "KS1fmgaj_prC",
        "colab_type": "code",
        "colab": {
          "base_uri": "https://localhost:8080/",
          "height": 289
        },
        "outputId": "bbe16c02-d5a8-436c-b6eb-dc28f0087cc7"
      },
      "source": [
        "model = tf.keras.Sequential()\n",
        "# model.add(hub_layer)\n",
        "# model.add(tf.keras.layers.Embedding(weights.shape[0], weights.shape[1], weights=[weights]))\n",
        "model.add(tf.keras.layers.Embedding(vocab_size, 100, input_length=200))\n",
        "model.add(tf.keras.layers.Bidirectional(tf.keras.layers.LSTM(64)))\n",
        "model.add(tf.keras.layers.Dense(30, activation='relu'))\n",
        "model.add(tf.keras.layers.Dense(20, activation='softmax'))\n",
        "\n",
        "model.summary()\n",
        "\n",
        "model.compile(optimizer='adam',\n",
        "              loss='sparse_categorical_crossentropy',\n",
        "              metrics=['sparse_categorical_accuracy'])"
      ],
      "execution_count": 194,
      "outputs": [
        {
          "output_type": "stream",
          "text": [
            "Model: \"sequential_50\"\n",
            "_________________________________________________________________\n",
            "Layer (type)                 Output Shape              Param #   \n",
            "=================================================================\n",
            "embedding_18 (Embedding)     (None, 200, 100)          7081900   \n",
            "_________________________________________________________________\n",
            "bidirectional_7 (Bidirection (None, 128)               84480     \n",
            "_________________________________________________________________\n",
            "dense_66 (Dense)             (None, 30)                3870      \n",
            "_________________________________________________________________\n",
            "dense_67 (Dense)             (None, 20)                620       \n",
            "=================================================================\n",
            "Total params: 7,170,870\n",
            "Trainable params: 7,170,870\n",
            "Non-trainable params: 0\n",
            "_________________________________________________________________\n"
          ],
          "name": "stdout"
        }
      ]
    },
    {
      "cell_type": "code",
      "metadata": {
        "id": "_vQJSvDwl2Gz",
        "colab_type": "code",
        "colab": {
          "base_uri": "https://localhost:8080/",
          "height": 105
        },
        "outputId": "3e141ae0-a2f2-439c-a879-de076dbea41e"
      },
      "source": [
        "history = model.fit(train_dataset.shuffle(10000).batch(128),\n",
        "                    epochs=10,\n",
        "                    validation_data=test_dataset.batch(128),\n",
        "                    verbose=1)"
      ],
      "execution_count": 0,
      "outputs": [
        {
          "output_type": "stream",
          "text": [
            "Epoch 1/10\n",
            "438/438 [==============================] - 439s 1s/step - loss: 2.6321 - sparse_categorical_accuracy: 0.1605 - val_loss: 0.0000e+00 - val_sparse_categorical_accuracy: 0.0000e+00\n",
            "Epoch 2/10\n",
            "286/438 [==================>...........] - ETA: 2:22 - loss: 1.9940 - sparse_categorical_accuracy: 0.3472"
          ],
          "name": "stdout"
        }
      ]
    },
    {
      "cell_type": "code",
      "metadata": {
        "id": "c2DVngfV4yf9",
        "colab_type": "code",
        "colab": {
          "base_uri": "https://localhost:8080/",
          "height": 34
        },
        "outputId": "9c077b9c-002c-41a4-af73-f1f323f7dcbb"
      },
      "source": [
        "history.epoch"
      ],
      "execution_count": 119,
      "outputs": [
        {
          "output_type": "execute_result",
          "data": {
            "text/plain": [
              "[0, 1, 2, 3, 4, 5, 6, 7, 8, 9, 10, 11, 12, 13, 14, 15, 16, 17, 18, 19]"
            ]
          },
          "metadata": {
            "tags": []
          },
          "execution_count": 119
        }
      ]
    },
    {
      "cell_type": "code",
      "metadata": {
        "id": "JhJjf4Gj4qb1",
        "colab_type": "code",
        "colab": {
          "base_uri": "https://localhost:8080/",
          "height": 295
        },
        "outputId": "1921117c-1d9a-4693-dded-c4098b9bb876"
      },
      "source": [
        "import matplotlib.pyplot as plt\n",
        "\n",
        "history_dict = history.history\n",
        "\n",
        "acc = history_dict['sparse_categorical_accuracy']\n",
        "val_acc = history_dict['val_sparse_categorical_accuracy']\n",
        "loss = history_dict['loss']\n",
        "val_loss = history_dict['val_loss']\n",
        "\n",
        "epochs = range(1, len(acc) + 1)\n",
        "\n",
        "# \"bo\" is for \"blue dot\"\n",
        "plt.plot(epochs, loss, 'bo', label='Training loss')\n",
        "# b is for \"solid blue line\"\n",
        "plt.plot(epochs, val_loss, 'b', label='Validation loss')\n",
        "plt.title('Training and validation loss')\n",
        "plt.xlabel('Epochs')\n",
        "plt.ylabel('Loss')\n",
        "plt.legend()\n",
        "\n",
        "plt.show()"
      ],
      "execution_count": 111,
      "outputs": [
        {
          "output_type": "display_data",
          "data": {
            "image/png": "[encoded data removed]",
            "text/plain": [
              "<Figure size 432x288 with 1 Axes>"
            ]
          },
          "metadata": {
            "tags": []
          }
        }
      ]
    },
    {
      "cell_type": "code",
      "metadata": {
        "id": "9a_JNLUG5gCC",
        "colab_type": "code",
        "colab": {
          "base_uri": "https://localhost:8080/",
          "height": 357
        },
        "outputId": "e0ef937b-97bd-4d6c-cc86-399fe44716a9"
      },
      "source": [
        "loss"
      ],
      "execution_count": 116,
      "outputs": [
        {
          "output_type": "execute_result",
          "data": {
            "text/plain": [
              "[3.6140416434151788,\n",
              " 2.9589370267050605,\n",
              " 2.9149156382424493,\n",
              " 2.8625779288155693,\n",
              " 2.8041126232147215,\n",
              " 2.7422285376957483,\n",
              " 2.6769465381077358,\n",
              " 2.6057833993094306,\n",
              " 2.530729106085641,\n",
              " 2.4601422170911516,\n",
              " 2.391933229991368,\n",
              " 2.333027000427246,\n",
              " 2.278807938984462,\n",
              " 2.2304238967895507,\n",
              " 2.185239685331072,\n",
              " 2.145258891241891,\n",
              " 2.106986570903233,\n",
              " 2.0707553482055663,\n",
              " 2.037603917258126,\n",
              " 2.003682823044913]"
            ]
          },
          "metadata": {
            "tags": []
          },
          "execution_count": 116
        }
      ]
    },
    {
      "cell_type": "code",
      "metadata": {
        "id": "EPqZl-_85M9u",
        "colab_type": "code",
        "colab": {
          "base_uri": "https://localhost:8080/",
          "height": 295
        },
        "outputId": "6224927d-4385-4fd5-b79c-caace4fb3503"
      },
      "source": [
        "import matplotlib.pyplot as plt\n",
        "\n",
        "history_dict = history.history\n",
        "\n",
        "acc = history_dict['sparse_categorical_accuracy']\n",
        "val_acc = history_dict['val_sparse_categorical_accuracy']\n",
        "loss = history_dict['loss']\n",
        "val_loss = history_dict['val_loss']\n",
        "\n",
        "epochs = range(1, len(acc) + 1)\n",
        "\n",
        "# \"bo\" is for \"blue dot\"\n",
        "plt.plot(epochs, acc, 'bo', label='Training Accuracy')\n",
        "# b is for \"solid blue line\"\n",
        "plt.plot(epochs, val_acc, 'b', label='Validation Accuracy')\n",
        "plt.title('Training and validation loss')\n",
        "plt.xlabel('Epochs')\n",
        "plt.ylabel('Loss')\n",
        "plt.legend()\n",
        "\n",
        "plt.show()"
      ],
      "execution_count": 112,
      "outputs": [
        {
          "output_type": "display_data",
          "data": {
            "image/png": "[encoded data removed]",
            "text/plain": [
              "<Figure size 432x288 with 1 Axes>"
            ]
          },
          "metadata": {
            "tags": []
          }
        }
      ]
    },
    {
      "cell_type": "code",
      "metadata": {
        "id": "TJ6UWUDenwdg",
        "colab_type": "code",
        "colab": {}
      },
      "source": [
        "train_examples_batch, train_labels_batch = next(iter(train_data.batch(10)))"
      ],
      "execution_count": 0,
      "outputs": []
    },
    {
      "cell_type": "code",
      "metadata": {
        "id": "teMxDFQ2t_AY",
        "colab_type": "code",
        "colab": {
          "base_uri": "https://localhost:8080/",
          "height": 255
        },
        "outputId": "24018649-6fcd-4447-d7f8-703878c85a1f"
      },
      "source": [
        "hub_layer(train_examples_batch[:3])"
      ],
      "execution_count": 92,
      "outputs": [
        {
          "output_type": "execute_result",
          "data": {
            "text/plain": [
              "<tf.Tensor: id=36712, shape=(3, 20), dtype=float32, numpy=\n",
              "array([[-0.22229461, -0.42916432,  0.29436302,  0.09194236, -0.7034013 ,\n",
              "        -0.1901886 , -0.11568107,  0.2729968 ,  0.26288062,  0.20134993,\n",
              "        -0.83761847,  0.60414404, -0.9240657 ,  0.00393114, -0.9336567 ,\n",
              "         1.7986548 ,  1.0537531 , -0.59725803, -1.314109  ,  0.48715585],\n",
              "       [ 0.71973515, -1.5690672 ,  2.6005182 ,  1.5375804 , -3.0475962 ,\n",
              "        -1.5940319 , -0.42759824,  0.41191167,  0.80040985,  0.53082407,\n",
              "        -0.09179005,  0.6399752 , -1.276149  ,  0.3304295 , -0.6884999 ,\n",
              "        -0.15445505,  0.92919135, -0.4841512 , -0.5742273 , -0.5302603 ],\n",
              "       [-0.05867215, -0.64040196,  0.8372087 ,  0.49190915, -1.3283617 ,\n",
              "        -0.89039457, -0.80225223,  0.56662   , -0.20465149,  1.1194165 ,\n",
              "        -0.42436174, -0.50600976,  0.5010443 ,  0.5542055 , -1.7319016 ,\n",
              "        -0.22708881,  1.2521013 ,  0.60175776,  0.46372825, -0.45272866]],\n",
              "      dtype=float32)>"
            ]
          },
          "metadata": {
            "tags": []
          },
          "execution_count": 92
        }
      ]
    },
    {
      "cell_type": "code",
      "metadata": {
        "id": "lHbSc98CoAuO",
        "colab_type": "code",
        "colab": {
          "base_uri": "https://localhost:8080/",
          "height": 241
        },
        "outputId": "d04f1653-8d66-4db5-bfe1-acc26a49589d"
      },
      "source": [
        "train_examples_batch, train_labels_batch = next(iter(train_dataset.batch(10)))\n",
        "train_examples_batch"
      ],
      "execution_count": 96,
      "outputs": [
        {
          "output_type": "execute_result",
          "data": {
            "text/plain": [
              "<tf.Tensor: id=42117, shape=(10,), dtype=string, numpy=\n",
              "array([b'Because he would be on the bench for the nets and a superstar in china',\n",
              "       b'Film trailers have lines edited that may or may not be full text. Has always been that way ',\n",
              "       b'Medical Marijuana and now this! Looks like I need to relocate. ',\n",
              "       b'Prior to this, 2 people making burgers and 4 \"serving.\" Now, 2 people making burgers and 4 people standing around.',\n",
              "       b'Ok Go\\'s \"Here We Go Again\" got a lot of traction when it came out.',\n",
              "       b\"lol are you talking about this\\n\\n&gt;Maria Menounos calls her brain tumor a 'gift' saying she needed to change her life as she and Megyn Kelly both break down in tears discussing her mother's cancer battle\\n\\nNot exactly world news is it? I'd have downvoted it too ;)\",\n",
              "       b'The stupid flat earth \"theory\",\\nThe worst part is I\\'ve figured out there are HUGE troll accounts made to trick and annoy people.\\nMy rule of thumb is that if they have no person in the profile picture there are more than likely trolling. (Sometimes they have a face in the profile pic), the true believers are the people with default profile pictures who type in all caps and more than likely repost [insert political figure here]\\'s newest post. I\\'m going to end this with one sentence. The flat earth theory is wrong.',\n",
              "       b\"Man, that communist party tactic is sure used all the time during political elections, protests, etc in the US. \\n\\n\\nTalk about yellow journalism. Not many people are still dumb enough to keep falling for this. \\n\\nEdit: No matter how hard the shill /u/TwoMorningPoops try's \",\n",
              "       b\"Honestly, the whole team is just a great story. Zeus especially, but I'd love a player profile esque video on each person. I wanna know how Adren is so amazing.\",\n",
              "       b'But then you went on to insult him and religion in general...'],\n",
              "      dtype=object)>"
            ]
          },
          "metadata": {
            "tags": []
          },
          "execution_count": 96
        }
      ]
    },
    {
      "cell_type": "code",
      "metadata": {
        "id": "mMvkEtZ2njCP",
        "colab_type": "code",
        "colab": {}
      },
      "source": [
        "import tensorflow_hub as hub\n",
        "import tensorflow_datasets as tfds\n",
        "\n",
        "train_validation_split = tfds.Split.TRAIN.subsplit([6, 4])\n",
        "\n",
        "(train_data, validation_data), test_data = tfds.load(\n",
        "    name=\"imdb_reviews\", \n",
        "    split=(train_validation_split, tfds.Split.TEST),\n",
        "    as_supervised=True)"
      ],
      "execution_count": 0,
      "outputs": []
    },
    {
      "cell_type": "code",
      "metadata": {
        "id": "P2en24jbnCX1",
        "colab_type": "code",
        "colab": {}
      },
      "source": [
        "next(iter(train_dataset.shuffle(10000).batch(512)))"
      ],
      "execution_count": 0,
      "outputs": []
    }
  ]
}